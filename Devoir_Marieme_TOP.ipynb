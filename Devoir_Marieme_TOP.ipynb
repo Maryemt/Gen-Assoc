{
  "cells": [
    {
      "cell_type": "markdown",
      "metadata": {
        "id": "view-in-github",
        "colab_type": "text"
      },
      "source": [
        "<a href=\"https://colab.research.google.com/github/Maryemt/Gen-Assoc/blob/develop/Devoir_Marieme_TOP.ipynb\" target=\"_parent\"><img src=\"https://colab.research.google.com/assets/colab-badge.svg\" alt=\"Open In Colab\"/></a>"
      ]
    },
    {
      "cell_type": "markdown",
      "metadata": {
        "id": "47KikN9JiY27"
      },
      "source": [
        "# Webscrapping sur les données de voitures\n",
        "\n",
        "Master I DIT - Session Janvier 2024 - Cours Data Collection\n",
        "\n",
        "Ndeye Marieme TOP\n",
        "\n",
        "**Instructions**:\n",
        "\n",
        "Sur le site https://sn.coinafrique.com/categorie/voitures\n",
        "\n",
        "Récupérer sur **5 pages** les informations suivantes:\n",
        "- Constructeur\n",
        "- Modele\n",
        "- Kilométrage\n",
        "- Transmission\n",
        "- Carburant\n",
        "- Prix\n",
        "- Adresse"
      ]
    },
    {
      "cell_type": "markdown",
      "metadata": {
        "id": "QFbgGwpEl7TL"
      },
      "source": [
        "# Import needed packages"
      ]
    },
    {
      "cell_type": "code",
      "execution_count": 13,
      "metadata": {
        "id": "KiRWhk9hgLY5"
      },
      "outputs": [],
      "source": [
        "# Import packages\n",
        "\n",
        "import pandas as pd\n",
        "from requests import get #  get a page html code\n",
        "from bs4 import BeautifulSoup as bs #  store html code in a bs object\n"
      ]
    },
    {
      "cell_type": "markdown",
      "metadata": {
        "id": "pQsqZq3wlynO"
      },
      "source": [
        "#Test principle step by step\n",
        "\n",
        "The purpose is to test how to access the data"
      ]
    },
    {
      "cell_type": "code",
      "execution_count": 14,
      "metadata": {
        "colab": {
          "base_uri": "https://localhost:8080/"
        },
        "id": "aBGbjaytlwTj",
        "outputId": "6402954d-bf0f-488b-cd67-806f4b1c5893"
      },
      "outputs": [
        {
          "output_type": "execute_result",
          "data": {
            "text/plain": [
              "<div class=\"card-content ad__card-content\"><div><p class=\"ad__card-price\"><a data-is-top-ad-link=\"top\" data-view-origin-parent-tree=\"6\" href=\"/annonce/voitures/peugeot-2008-2015-4696931\" title=\"Peugeot 2008 2015\">7 000 000<span>CFA</span></a></p><p class=\"ad__card-description\"><a data-is-top-ad-link=\"top\" data-view-origin-parent-tree=\"6\" href=\"/annonce/voitures/peugeot-2008-2015-4696931\" title=\"Peugeot 2008 2015\">Peugeot 2008 2015</a></p><p class=\"ad__card-location\"><i class=\"material-icons\">location_on</i><span>Dakar, Sénégal</span></p></div><div class=\"card-action ad__card-action is-pro\"><a class=\"pro-contact-card\" data-ad-category=\"Voitures\" data-ad-title=\"Peugeot 2008 2015\" data-post-id=\"4696931\" href=\"/profil/d74c50cb-2928-44ef-8206-782eab547bc6\" title=\"Visiter le profil de LYMA Auto\"><div class=\"profile-picture\"><img alt=\"photo utilisateur\" class=\"pro-icon circle profile-card__img\" src=\"https://coinafrique-ads-photos.s3.amazonaws.com/photos/43118871-6cd.png\"/><p class=\"title\">LYMA Auto</p></div><div class=\"profile-detail\"><img alt=\"Icone Professionel\" class=\"img pro-icon\" src=\"https://static.coinafrique.com/static/images/monetizations/pro-shop-blue.svg\"/></div></a></div></div>"
            ]
          },
          "metadata": {},
          "execution_count": 14
        }
      ],
      "source": [
        "# url\n",
        "url = 'https://sn.coinafrique.com/categorie/voitures'\n",
        "\n",
        "res = get(url)\n",
        "soup = bs(res.text, 'html') # store code in bs obj\n",
        "containers = soup.find_all('div', class_ ='card-content ad__card-content')  # div balises containing car informations\n",
        "\n",
        "# Check containers length\n",
        "#len(containers)\n",
        "\n",
        "# Start with first container\n",
        "container = containers[0]\n",
        "container\n",
        "\n"
      ]
    },
    {
      "cell_type": "code",
      "execution_count": 15,
      "metadata": {
        "colab": {
          "base_uri": "https://localhost:8080/",
          "height": 35
        },
        "id": "JUH2De16knlr",
        "outputId": "38d9e834-2a29-4c46-e361-a4dc09341a09"
      },
      "outputs": [
        {
          "output_type": "execute_result",
          "data": {
            "text/plain": [
              "'/annonce/voitures/peugeot-2008-2015-4696931'"
            ],
            "application/vnd.google.colaboratory.intrinsic+json": {
              "type": "string"
            }
          },
          "metadata": {},
          "execution_count": 15
        }
      ],
      "source": [
        "pre_link = container.find('a')['href']\n",
        "pre_link"
      ]
    },
    {
      "cell_type": "code",
      "execution_count": 16,
      "metadata": {
        "colab": {
          "base_uri": "https://localhost:8080/",
          "height": 35
        },
        "id": "2tzcujcBePfv",
        "outputId": "4e5c5514-eebc-446c-d5e4-e5e59dd5d3d4"
      },
      "outputs": [
        {
          "output_type": "execute_result",
          "data": {
            "text/plain": [
              "'https://sn.coinafrique.com/annonce/voitures/peugeot-2008-2015-4696931'"
            ],
            "application/vnd.google.colaboratory.intrinsic+json": {
              "type": "string"
            }
          },
          "metadata": {},
          "execution_count": 16
        }
      ],
      "source": [
        "# Concatenate with prefix\n",
        "link = 'https://sn.coinafrique.com' + pre_link\n",
        "link"
      ]
    },
    {
      "cell_type": "code",
      "execution_count": 17,
      "metadata": {
        "id": "vn0kJUBJhXKs"
      },
      "outputs": [],
      "source": [
        "# get html code of item page\n",
        "res_c = get(link)\n",
        "bsoup_c = bs(res_c.text, 'html.parser')\n",
        "# bsoup_c\n"
      ]
    },
    {
      "cell_type": "markdown",
      "metadata": {
        "id": "D-ynBmBamKxy"
      },
      "source": [
        "### Get informations one by one"
      ]
    },
    {
      "cell_type": "code",
      "execution_count": 18,
      "metadata": {
        "id": "wiz78Q9LsIw-"
      },
      "outputs": [],
      "source": [
        "# Balise contenant info suivantes:\n",
        "info = bsoup_c.find_all('div', class_=\"details-characteristics\")[0].find_all('span')\n",
        "\n",
        "constructeur = info[1].text\n",
        "modele = info[3].text\n",
        "kilometrage = info[5].text.replace(' km','')\n",
        "transmission = info[7].text\n",
        "carburant = info[9].text\n",
        "\n",
        "# prix et adresse\n",
        "prix = bsoup_c.find_all('p', class_=\"price\")[0].text.replace(' CFA','').replace(' ','')\n",
        "adresse = bsoup_c.find_all('div', class_=\"row valign-wrapper extra-info-ad-detail\")[0].find_all('span')[2].text.replace(',','')\n"
      ]
    },
    {
      "cell_type": "markdown",
      "metadata": {
        "id": "8G9YcyQGmXir"
      },
      "source": [
        "# Scrap data of one page"
      ]
    },
    {
      "cell_type": "code",
      "execution_count": 19,
      "metadata": {
        "id": "kffE6dg0m6Wf"
      },
      "outputs": [],
      "source": [
        "# Scraper les données de la page\n",
        "\n",
        "data = [] # List to store informations\n",
        "\n",
        "for container in containers:\n",
        "\n",
        "  # get link to the car page\n",
        "  link = 'https://sn.coinafrique.com'+ container.find('a')['href']\n",
        "  # get html code de la page de l'item\n",
        "  res_c = get(link)\n",
        "  bsoup_c = bs(res_c.text, 'html.parser')\n",
        "\n",
        "  try:\n",
        "    # Balise contenant info suivantes:\n",
        "    info = bsoup_c.find_all('div', class_=\"details-characteristics\")[0].find_all('span')\n",
        "    constructeur = info[1].text\n",
        "    modele = info[3].text\n",
        "    kilometrage = info[5].text.replace(' km','')\n",
        "    transmission = info[7].text\n",
        "    carburant = info[9].text\n",
        "    # prix et adresse\n",
        "    prix = bsoup_c.find_all('p', class_=\"price\")[0].text.replace(' CFA','').replace(' ','')\n",
        "    adresse = bsoup_c.find_all('div', class_=\"row valign-wrapper extra-info-ad-detail\")[0].find_all('span')[2].text.replace(',','')\n",
        "\n",
        "\n",
        "    dico = {\n",
        "        'constructeur' : constructeur,\n",
        "        'modele' : modele,\n",
        "        'kilometrage' : kilometrage,\n",
        "        'transmission' : transmission,\n",
        "        'carburant': carburant,\n",
        "        'prix' : prix,\n",
        "        'adresse' : adresse\n",
        "    }\n",
        "    data.append(dico)\n",
        "\n",
        "  except:\n",
        "    pass\n",
        "\n",
        "DF = pd.DataFrame(data)\n"
      ]
    },
    {
      "cell_type": "code",
      "execution_count": 20,
      "metadata": {
        "colab": {
          "base_uri": "https://localhost:8080/"
        },
        "id": "LRj6nY5DlVTu",
        "outputId": "b96b4214-0a80-4d3b-c979-51257db6ea47"
      },
      "outputs": [
        {
          "output_type": "execute_result",
          "data": {
            "text/plain": [
              "(56, 7)"
            ]
          },
          "metadata": {},
          "execution_count": 20
        }
      ],
      "source": [
        "DF.shape"
      ]
    },
    {
      "cell_type": "code",
      "execution_count": 21,
      "metadata": {
        "colab": {
          "base_uri": "https://localhost:8080/",
          "height": 206
        },
        "id": "ojJE3E6YlYyV",
        "outputId": "3f334869-5cee-4ed9-9bf2-fe7e1b08aea2"
      },
      "outputs": [
        {
          "output_type": "execute_result",
          "data": {
            "text/plain": [
              "  constructeur       modele kilometrage transmission carburant      prix  \\\n",
              "0      Peugeot         2008           0  Automatique    Gasoil   7000000   \n",
              "1        Rover  range rover           0  Automatique   Essence  29500000   \n",
              "2   Mitsubishi          rvr      120000  Automatique   Essence   6300000   \n",
              "3   Volkswagen         Polo      171000       Manuel    Gasoil   2400000   \n",
              "4       Toyota      corolla      235300       Manuel   Essence   2900000   \n",
              "\n",
              "                    adresse  \n",
              "0             Dakar Sénégal  \n",
              "1             Dakar Sénégal  \n",
              "2             Dakar Sénégal  \n",
              "3        Fass Dakar Sénégal  \n",
              "4  Grand Yoff Dakar Sénégal  "
            ],
            "text/html": [
              "\n",
              "  <div id=\"df-b2fd1e04-1325-473f-8db9-c98faea0dcbc\" class=\"colab-df-container\">\n",
              "    <div>\n",
              "<style scoped>\n",
              "    .dataframe tbody tr th:only-of-type {\n",
              "        vertical-align: middle;\n",
              "    }\n",
              "\n",
              "    .dataframe tbody tr th {\n",
              "        vertical-align: top;\n",
              "    }\n",
              "\n",
              "    .dataframe thead th {\n",
              "        text-align: right;\n",
              "    }\n",
              "</style>\n",
              "<table border=\"1\" class=\"dataframe\">\n",
              "  <thead>\n",
              "    <tr style=\"text-align: right;\">\n",
              "      <th></th>\n",
              "      <th>constructeur</th>\n",
              "      <th>modele</th>\n",
              "      <th>kilometrage</th>\n",
              "      <th>transmission</th>\n",
              "      <th>carburant</th>\n",
              "      <th>prix</th>\n",
              "      <th>adresse</th>\n",
              "    </tr>\n",
              "  </thead>\n",
              "  <tbody>\n",
              "    <tr>\n",
              "      <th>0</th>\n",
              "      <td>Peugeot</td>\n",
              "      <td>2008</td>\n",
              "      <td>0</td>\n",
              "      <td>Automatique</td>\n",
              "      <td>Gasoil</td>\n",
              "      <td>7000000</td>\n",
              "      <td>Dakar Sénégal</td>\n",
              "    </tr>\n",
              "    <tr>\n",
              "      <th>1</th>\n",
              "      <td>Rover</td>\n",
              "      <td>range rover</td>\n",
              "      <td>0</td>\n",
              "      <td>Automatique</td>\n",
              "      <td>Essence</td>\n",
              "      <td>29500000</td>\n",
              "      <td>Dakar Sénégal</td>\n",
              "    </tr>\n",
              "    <tr>\n",
              "      <th>2</th>\n",
              "      <td>Mitsubishi</td>\n",
              "      <td>rvr</td>\n",
              "      <td>120000</td>\n",
              "      <td>Automatique</td>\n",
              "      <td>Essence</td>\n",
              "      <td>6300000</td>\n",
              "      <td>Dakar Sénégal</td>\n",
              "    </tr>\n",
              "    <tr>\n",
              "      <th>3</th>\n",
              "      <td>Volkswagen</td>\n",
              "      <td>Polo</td>\n",
              "      <td>171000</td>\n",
              "      <td>Manuel</td>\n",
              "      <td>Gasoil</td>\n",
              "      <td>2400000</td>\n",
              "      <td>Fass Dakar Sénégal</td>\n",
              "    </tr>\n",
              "    <tr>\n",
              "      <th>4</th>\n",
              "      <td>Toyota</td>\n",
              "      <td>corolla</td>\n",
              "      <td>235300</td>\n",
              "      <td>Manuel</td>\n",
              "      <td>Essence</td>\n",
              "      <td>2900000</td>\n",
              "      <td>Grand Yoff Dakar Sénégal</td>\n",
              "    </tr>\n",
              "  </tbody>\n",
              "</table>\n",
              "</div>\n",
              "    <div class=\"colab-df-buttons\">\n",
              "\n",
              "  <div class=\"colab-df-container\">\n",
              "    <button class=\"colab-df-convert\" onclick=\"convertToInteractive('df-b2fd1e04-1325-473f-8db9-c98faea0dcbc')\"\n",
              "            title=\"Convert this dataframe to an interactive table.\"\n",
              "            style=\"display:none;\">\n",
              "\n",
              "  <svg xmlns=\"http://www.w3.org/2000/svg\" height=\"24px\" viewBox=\"0 -960 960 960\">\n",
              "    <path d=\"M120-120v-720h720v720H120Zm60-500h600v-160H180v160Zm220 220h160v-160H400v160Zm0 220h160v-160H400v160ZM180-400h160v-160H180v160Zm440 0h160v-160H620v160ZM180-180h160v-160H180v160Zm440 0h160v-160H620v160Z\"/>\n",
              "  </svg>\n",
              "    </button>\n",
              "\n",
              "  <style>\n",
              "    .colab-df-container {\n",
              "      display:flex;\n",
              "      gap: 12px;\n",
              "    }\n",
              "\n",
              "    .colab-df-convert {\n",
              "      background-color: #E8F0FE;\n",
              "      border: none;\n",
              "      border-radius: 50%;\n",
              "      cursor: pointer;\n",
              "      display: none;\n",
              "      fill: #1967D2;\n",
              "      height: 32px;\n",
              "      padding: 0 0 0 0;\n",
              "      width: 32px;\n",
              "    }\n",
              "\n",
              "    .colab-df-convert:hover {\n",
              "      background-color: #E2EBFA;\n",
              "      box-shadow: 0px 1px 2px rgba(60, 64, 67, 0.3), 0px 1px 3px 1px rgba(60, 64, 67, 0.15);\n",
              "      fill: #174EA6;\n",
              "    }\n",
              "\n",
              "    .colab-df-buttons div {\n",
              "      margin-bottom: 4px;\n",
              "    }\n",
              "\n",
              "    [theme=dark] .colab-df-convert {\n",
              "      background-color: #3B4455;\n",
              "      fill: #D2E3FC;\n",
              "    }\n",
              "\n",
              "    [theme=dark] .colab-df-convert:hover {\n",
              "      background-color: #434B5C;\n",
              "      box-shadow: 0px 1px 3px 1px rgba(0, 0, 0, 0.15);\n",
              "      filter: drop-shadow(0px 1px 2px rgba(0, 0, 0, 0.3));\n",
              "      fill: #FFFFFF;\n",
              "    }\n",
              "  </style>\n",
              "\n",
              "    <script>\n",
              "      const buttonEl =\n",
              "        document.querySelector('#df-b2fd1e04-1325-473f-8db9-c98faea0dcbc button.colab-df-convert');\n",
              "      buttonEl.style.display =\n",
              "        google.colab.kernel.accessAllowed ? 'block' : 'none';\n",
              "\n",
              "      async function convertToInteractive(key) {\n",
              "        const element = document.querySelector('#df-b2fd1e04-1325-473f-8db9-c98faea0dcbc');\n",
              "        const dataTable =\n",
              "          await google.colab.kernel.invokeFunction('convertToInteractive',\n",
              "                                                    [key], {});\n",
              "        if (!dataTable) return;\n",
              "\n",
              "        const docLinkHtml = 'Like what you see? Visit the ' +\n",
              "          '<a target=\"_blank\" href=https://colab.research.google.com/notebooks/data_table.ipynb>data table notebook</a>'\n",
              "          + ' to learn more about interactive tables.';\n",
              "        element.innerHTML = '';\n",
              "        dataTable['output_type'] = 'display_data';\n",
              "        await google.colab.output.renderOutput(dataTable, element);\n",
              "        const docLink = document.createElement('div');\n",
              "        docLink.innerHTML = docLinkHtml;\n",
              "        element.appendChild(docLink);\n",
              "      }\n",
              "    </script>\n",
              "  </div>\n",
              "\n",
              "\n",
              "<div id=\"df-df960a60-e645-4973-978d-47557f0e8b6f\">\n",
              "  <button class=\"colab-df-quickchart\" onclick=\"quickchart('df-df960a60-e645-4973-978d-47557f0e8b6f')\"\n",
              "            title=\"Suggest charts\"\n",
              "            style=\"display:none;\">\n",
              "\n",
              "<svg xmlns=\"http://www.w3.org/2000/svg\" height=\"24px\"viewBox=\"0 0 24 24\"\n",
              "     width=\"24px\">\n",
              "    <g>\n",
              "        <path d=\"M19 3H5c-1.1 0-2 .9-2 2v14c0 1.1.9 2 2 2h14c1.1 0 2-.9 2-2V5c0-1.1-.9-2-2-2zM9 17H7v-7h2v7zm4 0h-2V7h2v10zm4 0h-2v-4h2v4z\"/>\n",
              "    </g>\n",
              "</svg>\n",
              "  </button>\n",
              "\n",
              "<style>\n",
              "  .colab-df-quickchart {\n",
              "      --bg-color: #E8F0FE;\n",
              "      --fill-color: #1967D2;\n",
              "      --hover-bg-color: #E2EBFA;\n",
              "      --hover-fill-color: #174EA6;\n",
              "      --disabled-fill-color: #AAA;\n",
              "      --disabled-bg-color: #DDD;\n",
              "  }\n",
              "\n",
              "  [theme=dark] .colab-df-quickchart {\n",
              "      --bg-color: #3B4455;\n",
              "      --fill-color: #D2E3FC;\n",
              "      --hover-bg-color: #434B5C;\n",
              "      --hover-fill-color: #FFFFFF;\n",
              "      --disabled-bg-color: #3B4455;\n",
              "      --disabled-fill-color: #666;\n",
              "  }\n",
              "\n",
              "  .colab-df-quickchart {\n",
              "    background-color: var(--bg-color);\n",
              "    border: none;\n",
              "    border-radius: 50%;\n",
              "    cursor: pointer;\n",
              "    display: none;\n",
              "    fill: var(--fill-color);\n",
              "    height: 32px;\n",
              "    padding: 0;\n",
              "    width: 32px;\n",
              "  }\n",
              "\n",
              "  .colab-df-quickchart:hover {\n",
              "    background-color: var(--hover-bg-color);\n",
              "    box-shadow: 0 1px 2px rgba(60, 64, 67, 0.3), 0 1px 3px 1px rgba(60, 64, 67, 0.15);\n",
              "    fill: var(--button-hover-fill-color);\n",
              "  }\n",
              "\n",
              "  .colab-df-quickchart-complete:disabled,\n",
              "  .colab-df-quickchart-complete:disabled:hover {\n",
              "    background-color: var(--disabled-bg-color);\n",
              "    fill: var(--disabled-fill-color);\n",
              "    box-shadow: none;\n",
              "  }\n",
              "\n",
              "  .colab-df-spinner {\n",
              "    border: 2px solid var(--fill-color);\n",
              "    border-color: transparent;\n",
              "    border-bottom-color: var(--fill-color);\n",
              "    animation:\n",
              "      spin 1s steps(1) infinite;\n",
              "  }\n",
              "\n",
              "  @keyframes spin {\n",
              "    0% {\n",
              "      border-color: transparent;\n",
              "      border-bottom-color: var(--fill-color);\n",
              "      border-left-color: var(--fill-color);\n",
              "    }\n",
              "    20% {\n",
              "      border-color: transparent;\n",
              "      border-left-color: var(--fill-color);\n",
              "      border-top-color: var(--fill-color);\n",
              "    }\n",
              "    30% {\n",
              "      border-color: transparent;\n",
              "      border-left-color: var(--fill-color);\n",
              "      border-top-color: var(--fill-color);\n",
              "      border-right-color: var(--fill-color);\n",
              "    }\n",
              "    40% {\n",
              "      border-color: transparent;\n",
              "      border-right-color: var(--fill-color);\n",
              "      border-top-color: var(--fill-color);\n",
              "    }\n",
              "    60% {\n",
              "      border-color: transparent;\n",
              "      border-right-color: var(--fill-color);\n",
              "    }\n",
              "    80% {\n",
              "      border-color: transparent;\n",
              "      border-right-color: var(--fill-color);\n",
              "      border-bottom-color: var(--fill-color);\n",
              "    }\n",
              "    90% {\n",
              "      border-color: transparent;\n",
              "      border-bottom-color: var(--fill-color);\n",
              "    }\n",
              "  }\n",
              "</style>\n",
              "\n",
              "  <script>\n",
              "    async function quickchart(key) {\n",
              "      const quickchartButtonEl =\n",
              "        document.querySelector('#' + key + ' button');\n",
              "      quickchartButtonEl.disabled = true;  // To prevent multiple clicks.\n",
              "      quickchartButtonEl.classList.add('colab-df-spinner');\n",
              "      try {\n",
              "        const charts = await google.colab.kernel.invokeFunction(\n",
              "            'suggestCharts', [key], {});\n",
              "      } catch (error) {\n",
              "        console.error('Error during call to suggestCharts:', error);\n",
              "      }\n",
              "      quickchartButtonEl.classList.remove('colab-df-spinner');\n",
              "      quickchartButtonEl.classList.add('colab-df-quickchart-complete');\n",
              "    }\n",
              "    (() => {\n",
              "      let quickchartButtonEl =\n",
              "        document.querySelector('#df-df960a60-e645-4973-978d-47557f0e8b6f button');\n",
              "      quickchartButtonEl.style.display =\n",
              "        google.colab.kernel.accessAllowed ? 'block' : 'none';\n",
              "    })();\n",
              "  </script>\n",
              "</div>\n",
              "\n",
              "    </div>\n",
              "  </div>\n"
            ],
            "application/vnd.google.colaboratory.intrinsic+json": {
              "type": "dataframe",
              "variable_name": "DF",
              "summary": "{\n  \"name\": \"DF\",\n  \"rows\": 56,\n  \"fields\": [\n    {\n      \"column\": \"constructeur\",\n      \"properties\": {\n        \"dtype\": \"category\",\n        \"num_unique_values\": 16,\n        \"samples\": [\n          \"Peugeot\",\n          \"Rover\",\n          \"Kia\"\n        ],\n        \"semantic_type\": \"\",\n        \"description\": \"\"\n      }\n    },\n    {\n      \"column\": \"modele\",\n      \"properties\": {\n        \"dtype\": \"string\",\n        \"num_unique_values\": 42,\n        \"samples\": [\n          \"Optima\",\n          \"Sportage\",\n          \"Gl\"\n        ],\n        \"semantic_type\": \"\",\n        \"description\": \"\"\n      }\n    },\n    {\n      \"column\": \"kilometrage\",\n      \"properties\": {\n        \"dtype\": \"category\",\n        \"num_unique_values\": 20,\n        \"samples\": [\n          \"0\",\n          \"157000\",\n          \"122000\"\n        ],\n        \"semantic_type\": \"\",\n        \"description\": \"\"\n      }\n    },\n    {\n      \"column\": \"transmission\",\n      \"properties\": {\n        \"dtype\": \"category\",\n        \"num_unique_values\": 2,\n        \"samples\": [\n          \"Manuel\",\n          \"Automatique\"\n        ],\n        \"semantic_type\": \"\",\n        \"description\": \"\"\n      }\n    },\n    {\n      \"column\": \"carburant\",\n      \"properties\": {\n        \"dtype\": \"category\",\n        \"num_unique_values\": 2,\n        \"samples\": [\n          \"Essence\",\n          \"Gasoil\"\n        ],\n        \"semantic_type\": \"\",\n        \"description\": \"\"\n      }\n    },\n    {\n      \"column\": \"prix\",\n      \"properties\": {\n        \"dtype\": \"string\",\n        \"num_unique_values\": 40,\n        \"samples\": [\n          \"11500000\",\n          \"5700000\"\n        ],\n        \"semantic_type\": \"\",\n        \"description\": \"\"\n      }\n    },\n    {\n      \"column\": \"adresse\",\n      \"properties\": {\n        \"dtype\": \"category\",\n        \"num_unique_values\": 11,\n        \"samples\": [\n          \"Voitures\",\n          \"Dakar S\\u00e9n\\u00e9gal\"\n        ],\n        \"semantic_type\": \"\",\n        \"description\": \"\"\n      }\n    }\n  ]\n}"
            }
          },
          "metadata": {},
          "execution_count": 21
        }
      ],
      "source": [
        "DF.head()"
      ]
    },
    {
      "cell_type": "markdown",
      "metadata": {
        "id": "xRwZfpnisO1F"
      },
      "source": [
        "# Generalisation"
      ]
    },
    {
      "cell_type": "code",
      "execution_count": 28,
      "metadata": {
        "colab": {
          "base_uri": "https://localhost:8080/"
        },
        "id": "M36ba4elmo4Q",
        "outputId": "07ecc0d1-49a2-45c3-9f78-c5dab23500c2"
      },
      "outputs": [
        {
          "output_type": "stream",
          "name": "stdout",
          "text": [
            "Page 1 | Number of items :  56\n",
            "(56, 7)\n",
            "Page 2 | Number of items :  41\n",
            "(41, 7)\n",
            "Page 3 | Number of items :  53\n",
            "(53, 7)\n",
            "Page 4 | Number of items :  37\n",
            "(37, 7)\n",
            "Page 5 | Number of items :  49\n",
            "(49, 7)\n"
          ]
        }
      ],
      "source": [
        "df = pd.DataFrame()\n",
        "\n",
        "for p in range(1,6):      # 6 wont be considered\n",
        "\n",
        "  # URL of site's pages\n",
        "  url = f'https://sn.coinafrique.com/categorie/voitures?page={p}'\n",
        "\n",
        "  # Get html code of the current page and create containers\n",
        "  res = get(url)\n",
        "  soup = bs(res.text, 'html') # store code in bs obj\n",
        "\n",
        "  # All car informations in <div>\n",
        "  containers = soup.find_all('div', class_ ='card-content ad__card-content')\n",
        "\n",
        "  # See progress\n",
        "  print(\"Page\", p , \"| Number of items : \",len(containers))\n",
        "\n",
        "  data = []\n",
        "  for container in containers:\n",
        "\n",
        "    # get link to the car page : need to add the website link as a prefix\n",
        "    link = 'https://sn.coinafrique.com'+ container.find('a')['href']\n",
        "\n",
        "    # get html code of item\n",
        "    res_c = get(link)\n",
        "    bsoup_c = bs(res_c.text, 'html.parser')\n",
        "\n",
        "    try:\n",
        "\n",
        "      info = bsoup_c.find_all('div', class_=\"details-characteristics\")[0].find_all('span')\n",
        "      constructeur = info[1].text\n",
        "      modele = info[3].text\n",
        "      kilometrage = info[5].text.replace(' km','')\n",
        "      transmission = info[7].text\n",
        "      carburant = info[9].text\n",
        "      prix = bsoup_c.find_all('p', class_=\"price\")[0].text.replace(' CFA','').replace(' ','')\n",
        "      adresse = bsoup_c.find_all('div', class_=\"row valign-wrapper extra-info-ad-detail\")[0].find_all('span')[2].text.replace(',','')\n",
        "\n",
        "      dico = {\n",
        "          'constructeur' : constructeur,\n",
        "          'modele' : modele,\n",
        "          'kilometrage' : kilometrage,\n",
        "          'transmission' : transmission,\n",
        "          'carburant': carburant,\n",
        "          'prix' : prix,\n",
        "          'adresse' : adresse\n",
        "      }\n",
        "      data.append(dico)\n",
        "\n",
        "    except:\n",
        "      pass\n",
        "\n",
        "  DF = pd.DataFrame(data)\n",
        "  print(DF.shape)\n",
        "  df = pd.concat([df, DF]).reset_index(drop = True)\n",
        "\n",
        "  #DF = pd.concat([DF, pd.DataFrame(data)]).reset_index(drop = True)\n"
      ]
    },
    {
      "cell_type": "code",
      "execution_count": 29,
      "metadata": {
        "colab": {
          "base_uri": "https://localhost:8080/"
        },
        "id": "D7Gq4u4oteB5",
        "outputId": "3886bce7-acb8-483c-95dd-954f4cc2f6fa"
      },
      "outputs": [
        {
          "output_type": "execute_result",
          "data": {
            "text/plain": [
              "(236, 7)"
            ]
          },
          "metadata": {},
          "execution_count": 29
        }
      ],
      "source": [
        "df.shape"
      ]
    },
    {
      "cell_type": "code",
      "execution_count": 31,
      "metadata": {
        "colab": {
          "base_uri": "https://localhost:8080/",
          "height": 206
        },
        "id": "7ra6xXp-tgPS",
        "outputId": "dff3912a-b705-4300-eb2a-7d9014d79ac9"
      },
      "outputs": [
        {
          "output_type": "execute_result",
          "data": {
            "text/plain": [
              "  constructeur       modele kilometrage transmission carburant      prix  \\\n",
              "0         Ford        focus           0  Automatique   Essence   2700000   \n",
              "1      Peugeot         2008           0  Automatique    Gasoil   7000000   \n",
              "2        Rover  range rover           0  Automatique   Essence  29500000   \n",
              "3   Mitsubishi          rvr      120000  Automatique   Essence   6300000   \n",
              "4   Volkswagen         Polo      171000       Manuel    Gasoil   2400000   \n",
              "\n",
              "              adresse  \n",
              "0       Dakar Sénégal  \n",
              "1       Dakar Sénégal  \n",
              "2       Dakar Sénégal  \n",
              "3       Dakar Sénégal  \n",
              "4  Fass Dakar Sénégal  "
            ],
            "text/html": [
              "\n",
              "  <div id=\"df-ed62f9ca-25a5-43f4-b378-7d282623f65c\" class=\"colab-df-container\">\n",
              "    <div>\n",
              "<style scoped>\n",
              "    .dataframe tbody tr th:only-of-type {\n",
              "        vertical-align: middle;\n",
              "    }\n",
              "\n",
              "    .dataframe tbody tr th {\n",
              "        vertical-align: top;\n",
              "    }\n",
              "\n",
              "    .dataframe thead th {\n",
              "        text-align: right;\n",
              "    }\n",
              "</style>\n",
              "<table border=\"1\" class=\"dataframe\">\n",
              "  <thead>\n",
              "    <tr style=\"text-align: right;\">\n",
              "      <th></th>\n",
              "      <th>constructeur</th>\n",
              "      <th>modele</th>\n",
              "      <th>kilometrage</th>\n",
              "      <th>transmission</th>\n",
              "      <th>carburant</th>\n",
              "      <th>prix</th>\n",
              "      <th>adresse</th>\n",
              "    </tr>\n",
              "  </thead>\n",
              "  <tbody>\n",
              "    <tr>\n",
              "      <th>0</th>\n",
              "      <td>Ford</td>\n",
              "      <td>focus</td>\n",
              "      <td>0</td>\n",
              "      <td>Automatique</td>\n",
              "      <td>Essence</td>\n",
              "      <td>2700000</td>\n",
              "      <td>Dakar Sénégal</td>\n",
              "    </tr>\n",
              "    <tr>\n",
              "      <th>1</th>\n",
              "      <td>Peugeot</td>\n",
              "      <td>2008</td>\n",
              "      <td>0</td>\n",
              "      <td>Automatique</td>\n",
              "      <td>Gasoil</td>\n",
              "      <td>7000000</td>\n",
              "      <td>Dakar Sénégal</td>\n",
              "    </tr>\n",
              "    <tr>\n",
              "      <th>2</th>\n",
              "      <td>Rover</td>\n",
              "      <td>range rover</td>\n",
              "      <td>0</td>\n",
              "      <td>Automatique</td>\n",
              "      <td>Essence</td>\n",
              "      <td>29500000</td>\n",
              "      <td>Dakar Sénégal</td>\n",
              "    </tr>\n",
              "    <tr>\n",
              "      <th>3</th>\n",
              "      <td>Mitsubishi</td>\n",
              "      <td>rvr</td>\n",
              "      <td>120000</td>\n",
              "      <td>Automatique</td>\n",
              "      <td>Essence</td>\n",
              "      <td>6300000</td>\n",
              "      <td>Dakar Sénégal</td>\n",
              "    </tr>\n",
              "    <tr>\n",
              "      <th>4</th>\n",
              "      <td>Volkswagen</td>\n",
              "      <td>Polo</td>\n",
              "      <td>171000</td>\n",
              "      <td>Manuel</td>\n",
              "      <td>Gasoil</td>\n",
              "      <td>2400000</td>\n",
              "      <td>Fass Dakar Sénégal</td>\n",
              "    </tr>\n",
              "  </tbody>\n",
              "</table>\n",
              "</div>\n",
              "    <div class=\"colab-df-buttons\">\n",
              "\n",
              "  <div class=\"colab-df-container\">\n",
              "    <button class=\"colab-df-convert\" onclick=\"convertToInteractive('df-ed62f9ca-25a5-43f4-b378-7d282623f65c')\"\n",
              "            title=\"Convert this dataframe to an interactive table.\"\n",
              "            style=\"display:none;\">\n",
              "\n",
              "  <svg xmlns=\"http://www.w3.org/2000/svg\" height=\"24px\" viewBox=\"0 -960 960 960\">\n",
              "    <path d=\"M120-120v-720h720v720H120Zm60-500h600v-160H180v160Zm220 220h160v-160H400v160Zm0 220h160v-160H400v160ZM180-400h160v-160H180v160Zm440 0h160v-160H620v160ZM180-180h160v-160H180v160Zm440 0h160v-160H620v160Z\"/>\n",
              "  </svg>\n",
              "    </button>\n",
              "\n",
              "  <style>\n",
              "    .colab-df-container {\n",
              "      display:flex;\n",
              "      gap: 12px;\n",
              "    }\n",
              "\n",
              "    .colab-df-convert {\n",
              "      background-color: #E8F0FE;\n",
              "      border: none;\n",
              "      border-radius: 50%;\n",
              "      cursor: pointer;\n",
              "      display: none;\n",
              "      fill: #1967D2;\n",
              "      height: 32px;\n",
              "      padding: 0 0 0 0;\n",
              "      width: 32px;\n",
              "    }\n",
              "\n",
              "    .colab-df-convert:hover {\n",
              "      background-color: #E2EBFA;\n",
              "      box-shadow: 0px 1px 2px rgba(60, 64, 67, 0.3), 0px 1px 3px 1px rgba(60, 64, 67, 0.15);\n",
              "      fill: #174EA6;\n",
              "    }\n",
              "\n",
              "    .colab-df-buttons div {\n",
              "      margin-bottom: 4px;\n",
              "    }\n",
              "\n",
              "    [theme=dark] .colab-df-convert {\n",
              "      background-color: #3B4455;\n",
              "      fill: #D2E3FC;\n",
              "    }\n",
              "\n",
              "    [theme=dark] .colab-df-convert:hover {\n",
              "      background-color: #434B5C;\n",
              "      box-shadow: 0px 1px 3px 1px rgba(0, 0, 0, 0.15);\n",
              "      filter: drop-shadow(0px 1px 2px rgba(0, 0, 0, 0.3));\n",
              "      fill: #FFFFFF;\n",
              "    }\n",
              "  </style>\n",
              "\n",
              "    <script>\n",
              "      const buttonEl =\n",
              "        document.querySelector('#df-ed62f9ca-25a5-43f4-b378-7d282623f65c button.colab-df-convert');\n",
              "      buttonEl.style.display =\n",
              "        google.colab.kernel.accessAllowed ? 'block' : 'none';\n",
              "\n",
              "      async function convertToInteractive(key) {\n",
              "        const element = document.querySelector('#df-ed62f9ca-25a5-43f4-b378-7d282623f65c');\n",
              "        const dataTable =\n",
              "          await google.colab.kernel.invokeFunction('convertToInteractive',\n",
              "                                                    [key], {});\n",
              "        if (!dataTable) return;\n",
              "\n",
              "        const docLinkHtml = 'Like what you see? Visit the ' +\n",
              "          '<a target=\"_blank\" href=https://colab.research.google.com/notebooks/data_table.ipynb>data table notebook</a>'\n",
              "          + ' to learn more about interactive tables.';\n",
              "        element.innerHTML = '';\n",
              "        dataTable['output_type'] = 'display_data';\n",
              "        await google.colab.output.renderOutput(dataTable, element);\n",
              "        const docLink = document.createElement('div');\n",
              "        docLink.innerHTML = docLinkHtml;\n",
              "        element.appendChild(docLink);\n",
              "      }\n",
              "    </script>\n",
              "  </div>\n",
              "\n",
              "\n",
              "<div id=\"df-27f4fc60-7873-4df8-af8a-f3cdb546ad08\">\n",
              "  <button class=\"colab-df-quickchart\" onclick=\"quickchart('df-27f4fc60-7873-4df8-af8a-f3cdb546ad08')\"\n",
              "            title=\"Suggest charts\"\n",
              "            style=\"display:none;\">\n",
              "\n",
              "<svg xmlns=\"http://www.w3.org/2000/svg\" height=\"24px\"viewBox=\"0 0 24 24\"\n",
              "     width=\"24px\">\n",
              "    <g>\n",
              "        <path d=\"M19 3H5c-1.1 0-2 .9-2 2v14c0 1.1.9 2 2 2h14c1.1 0 2-.9 2-2V5c0-1.1-.9-2-2-2zM9 17H7v-7h2v7zm4 0h-2V7h2v10zm4 0h-2v-4h2v4z\"/>\n",
              "    </g>\n",
              "</svg>\n",
              "  </button>\n",
              "\n",
              "<style>\n",
              "  .colab-df-quickchart {\n",
              "      --bg-color: #E8F0FE;\n",
              "      --fill-color: #1967D2;\n",
              "      --hover-bg-color: #E2EBFA;\n",
              "      --hover-fill-color: #174EA6;\n",
              "      --disabled-fill-color: #AAA;\n",
              "      --disabled-bg-color: #DDD;\n",
              "  }\n",
              "\n",
              "  [theme=dark] .colab-df-quickchart {\n",
              "      --bg-color: #3B4455;\n",
              "      --fill-color: #D2E3FC;\n",
              "      --hover-bg-color: #434B5C;\n",
              "      --hover-fill-color: #FFFFFF;\n",
              "      --disabled-bg-color: #3B4455;\n",
              "      --disabled-fill-color: #666;\n",
              "  }\n",
              "\n",
              "  .colab-df-quickchart {\n",
              "    background-color: var(--bg-color);\n",
              "    border: none;\n",
              "    border-radius: 50%;\n",
              "    cursor: pointer;\n",
              "    display: none;\n",
              "    fill: var(--fill-color);\n",
              "    height: 32px;\n",
              "    padding: 0;\n",
              "    width: 32px;\n",
              "  }\n",
              "\n",
              "  .colab-df-quickchart:hover {\n",
              "    background-color: var(--hover-bg-color);\n",
              "    box-shadow: 0 1px 2px rgba(60, 64, 67, 0.3), 0 1px 3px 1px rgba(60, 64, 67, 0.15);\n",
              "    fill: var(--button-hover-fill-color);\n",
              "  }\n",
              "\n",
              "  .colab-df-quickchart-complete:disabled,\n",
              "  .colab-df-quickchart-complete:disabled:hover {\n",
              "    background-color: var(--disabled-bg-color);\n",
              "    fill: var(--disabled-fill-color);\n",
              "    box-shadow: none;\n",
              "  }\n",
              "\n",
              "  .colab-df-spinner {\n",
              "    border: 2px solid var(--fill-color);\n",
              "    border-color: transparent;\n",
              "    border-bottom-color: var(--fill-color);\n",
              "    animation:\n",
              "      spin 1s steps(1) infinite;\n",
              "  }\n",
              "\n",
              "  @keyframes spin {\n",
              "    0% {\n",
              "      border-color: transparent;\n",
              "      border-bottom-color: var(--fill-color);\n",
              "      border-left-color: var(--fill-color);\n",
              "    }\n",
              "    20% {\n",
              "      border-color: transparent;\n",
              "      border-left-color: var(--fill-color);\n",
              "      border-top-color: var(--fill-color);\n",
              "    }\n",
              "    30% {\n",
              "      border-color: transparent;\n",
              "      border-left-color: var(--fill-color);\n",
              "      border-top-color: var(--fill-color);\n",
              "      border-right-color: var(--fill-color);\n",
              "    }\n",
              "    40% {\n",
              "      border-color: transparent;\n",
              "      border-right-color: var(--fill-color);\n",
              "      border-top-color: var(--fill-color);\n",
              "    }\n",
              "    60% {\n",
              "      border-color: transparent;\n",
              "      border-right-color: var(--fill-color);\n",
              "    }\n",
              "    80% {\n",
              "      border-color: transparent;\n",
              "      border-right-color: var(--fill-color);\n",
              "      border-bottom-color: var(--fill-color);\n",
              "    }\n",
              "    90% {\n",
              "      border-color: transparent;\n",
              "      border-bottom-color: var(--fill-color);\n",
              "    }\n",
              "  }\n",
              "</style>\n",
              "\n",
              "  <script>\n",
              "    async function quickchart(key) {\n",
              "      const quickchartButtonEl =\n",
              "        document.querySelector('#' + key + ' button');\n",
              "      quickchartButtonEl.disabled = true;  // To prevent multiple clicks.\n",
              "      quickchartButtonEl.classList.add('colab-df-spinner');\n",
              "      try {\n",
              "        const charts = await google.colab.kernel.invokeFunction(\n",
              "            'suggestCharts', [key], {});\n",
              "      } catch (error) {\n",
              "        console.error('Error during call to suggestCharts:', error);\n",
              "      }\n",
              "      quickchartButtonEl.classList.remove('colab-df-spinner');\n",
              "      quickchartButtonEl.classList.add('colab-df-quickchart-complete');\n",
              "    }\n",
              "    (() => {\n",
              "      let quickchartButtonEl =\n",
              "        document.querySelector('#df-27f4fc60-7873-4df8-af8a-f3cdb546ad08 button');\n",
              "      quickchartButtonEl.style.display =\n",
              "        google.colab.kernel.accessAllowed ? 'block' : 'none';\n",
              "    })();\n",
              "  </script>\n",
              "</div>\n",
              "\n",
              "    </div>\n",
              "  </div>\n"
            ],
            "application/vnd.google.colaboratory.intrinsic+json": {
              "type": "dataframe",
              "variable_name": "df",
              "summary": "{\n  \"name\": \"df\",\n  \"rows\": 236,\n  \"fields\": [\n    {\n      \"column\": \"constructeur\",\n      \"properties\": {\n        \"dtype\": \"category\",\n        \"num_unique_values\": 24,\n        \"samples\": [\n          \"Mercedes-benz\",\n          \"Opel\",\n          \"Ford\"\n        ],\n        \"semantic_type\": \"\",\n        \"description\": \"\"\n      }\n    },\n    {\n      \"column\": \"modele\",\n      \"properties\": {\n        \"dtype\": \"string\",\n        \"num_unique_values\": 118,\n        \"samples\": [\n          \"ml\",\n          \"outlander\",\n          \"Polo\"\n        ],\n        \"semantic_type\": \"\",\n        \"description\": \"\"\n      }\n    },\n    {\n      \"column\": \"kilometrage\",\n      \"properties\": {\n        \"dtype\": \"category\",\n        \"num_unique_values\": 65,\n        \"samples\": [\n          \"82000\",\n          \"98000\",\n          \"0\"\n        ],\n        \"semantic_type\": \"\",\n        \"description\": \"\"\n      }\n    },\n    {\n      \"column\": \"transmission\",\n      \"properties\": {\n        \"dtype\": \"category\",\n        \"num_unique_values\": 2,\n        \"samples\": [\n          \"Manuel\",\n          \"Automatique\"\n        ],\n        \"semantic_type\": \"\",\n        \"description\": \"\"\n      }\n    },\n    {\n      \"column\": \"carburant\",\n      \"properties\": {\n        \"dtype\": \"category\",\n        \"num_unique_values\": 2,\n        \"samples\": [\n          \"Gasoil\",\n          \"Essence\"\n        ],\n        \"semantic_type\": \"\",\n        \"description\": \"\"\n      }\n    },\n    {\n      \"column\": \"prix\",\n      \"properties\": {\n        \"dtype\": \"category\",\n        \"num_unique_values\": 101,\n        \"samples\": [\n          \"38000000\",\n          \"21500000\"\n        ],\n        \"semantic_type\": \"\",\n        \"description\": \"\"\n      }\n    },\n    {\n      \"column\": \"adresse\",\n      \"properties\": {\n        \"dtype\": \"category\",\n        \"num_unique_values\": 18,\n        \"samples\": [\n          \"Dakar S\\u00e9n\\u00e9gal\",\n          \"Fass Dakar S\\u00e9n\\u00e9gal\"\n        ],\n        \"semantic_type\": \"\",\n        \"description\": \"\"\n      }\n    }\n  ]\n}"
            }
          },
          "metadata": {},
          "execution_count": 31
        }
      ],
      "source": [
        "df.head()"
      ]
    },
    {
      "cell_type": "code",
      "execution_count": 32,
      "metadata": {
        "colab": {
          "base_uri": "https://localhost:8080/"
        },
        "id": "0a5xcEOrthzi",
        "outputId": "5d22d270-940c-4702-bb32-cafc29ab814e"
      },
      "outputs": [
        {
          "output_type": "stream",
          "name": "stdout",
          "text": [
            "<class 'pandas.core.frame.DataFrame'>\n",
            "RangeIndex: 236 entries, 0 to 235\n",
            "Data columns (total 7 columns):\n",
            " #   Column        Non-Null Count  Dtype \n",
            "---  ------        --------------  ----- \n",
            " 0   constructeur  236 non-null    object\n",
            " 1   modele        236 non-null    object\n",
            " 2   kilometrage   236 non-null    object\n",
            " 3   transmission  236 non-null    object\n",
            " 4   carburant     236 non-null    object\n",
            " 5   prix          236 non-null    object\n",
            " 6   adresse       236 non-null    object\n",
            "dtypes: object(7)\n",
            "memory usage: 13.0+ KB\n"
          ]
        }
      ],
      "source": [
        "df.info()"
      ]
    },
    {
      "cell_type": "markdown",
      "source": [
        "If you want to save the data"
      ],
      "metadata": {
        "id": "2ra-YAKxbjL9"
      }
    },
    {
      "cell_type": "code",
      "source": [
        "df.to_excel('car_data.xlsx', index=False)"
      ],
      "metadata": {
        "id": "pUnjiBmYboGA"
      },
      "execution_count": 33,
      "outputs": []
    }
  ],
  "metadata": {
    "colab": {
      "provenance": [],
      "collapsed_sections": [
        "pQsqZq3wlynO",
        "D-ynBmBamKxy",
        "8G9YcyQGmXir"
      ],
      "authorship_tag": "ABX9TyMZs8rg8NIA60cxVhI/sahI",
      "include_colab_link": true
    },
    "kernelspec": {
      "display_name": "Python 3",
      "name": "python3"
    },
    "language_info": {
      "name": "python"
    }
  },
  "nbformat": 4,
  "nbformat_minor": 0
}